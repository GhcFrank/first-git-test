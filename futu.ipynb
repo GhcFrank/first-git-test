{
 "cells": [
  {
   "cell_type": "code",
   "execution_count": null,
   "metadata": {},
   "outputs": [
    {
     "name": "stderr",
     "output_type": "stream",
     "text": [
      "2020-05-20 20:30:56,031 [open_context_base.py] _socket_reconnect_and_wait_ready:257: Start connecting: host=127.0.0.1; port=11111;\n",
      "2020-05-20 20:30:56,032 [open_context_base.py] on_error:367: Connect error: conn_id=1; err=ECONNREFUSED;\n",
      "2020-05-20 20:30:56,033 [open_context_base.py] on_error:367: Connect error: conn_id=1; err=Connection closed;\n",
      "2020-05-20 20:30:56,034 [open_context_base.py] on_error:367: Connect error: conn_id=1; err=Connection closed;\n",
      "2020-05-20 20:30:56,035 [network_manager.py] work:366: Close: conn_id=1\n",
      "2020-05-20 20:30:56,042 [open_context_base.py] _wait_reconnect:475: Wait reconnect in 8 seconds: host=127.0.0.1; port=11111;\n",
      "2020-05-20 20:31:04,044 [open_context_base.py] _socket_reconnect_and_wait_ready:257: Start connecting: host=127.0.0.1; port=11111;\n",
      "2020-05-20 20:31:04,050 [open_context_base.py] on_error:367: Connect error: conn_id=2; err=ECONNREFUSED;\n",
      "2020-05-20 20:31:04,053 [open_context_base.py] on_error:367: Connect error: conn_id=2; err=Connection closed;\n",
      "2020-05-20 20:31:04,054 [open_context_base.py] on_error:367: Connect error: conn_id=2; err=Connection closed;\n",
      "2020-05-20 20:31:04,056 [network_manager.py] work:366: Close: conn_id=2\n",
      "2020-05-20 20:31:04,058 [open_context_base.py] _wait_reconnect:475: Wait reconnect in 8 seconds: host=127.0.0.1; port=11111;\n",
      "2020-05-20 20:31:12,061 [open_context_base.py] _socket_reconnect_and_wait_ready:257: Start connecting: host=127.0.0.1; port=11111;\n",
      "2020-05-20 20:31:12,066 [open_context_base.py] on_error:367: Connect error: conn_id=3; err=ECONNREFUSED;\n",
      "2020-05-20 20:31:12,070 [open_context_base.py] on_error:367: Connect error: conn_id=3; err=Connection closed;\n",
      "2020-05-20 20:31:12,071 [open_context_base.py] on_error:367: Connect error: conn_id=3; err=Connection closed;\n",
      "2020-05-20 20:31:12,072 [network_manager.py] work:366: Close: conn_id=3\n",
      "2020-05-20 20:31:12,075 [open_context_base.py] _wait_reconnect:475: Wait reconnect in 8 seconds: host=127.0.0.1; port=11111;\n",
      "2020-05-20 20:31:20,077 [open_context_base.py] _socket_reconnect_and_wait_ready:257: Start connecting: host=127.0.0.1; port=11111;\n",
      "2020-05-20 20:31:20,083 [open_context_base.py] on_error:367: Connect error: conn_id=4; err=ECONNREFUSED;\n",
      "2020-05-20 20:31:20,087 [open_context_base.py] on_error:367: Connect error: conn_id=4; err=Connection closed;\n",
      "2020-05-20 20:31:20,088 [open_context_base.py] on_error:367: Connect error: conn_id=4; err=Connection closed;\n",
      "2020-05-20 20:31:20,089 [network_manager.py] work:366: Close: conn_id=4\n",
      "2020-05-20 20:31:20,092 [open_context_base.py] _wait_reconnect:475: Wait reconnect in 8 seconds: host=127.0.0.1; port=11111;\n",
      "2020-05-20 20:31:28,094 [open_context_base.py] _socket_reconnect_and_wait_ready:257: Start connecting: host=127.0.0.1; port=11111;\n",
      "2020-05-20 20:31:28,099 [open_context_base.py] on_error:367: Connect error: conn_id=5; err=ECONNREFUSED;\n",
      "2020-05-20 20:31:28,102 [open_context_base.py] on_error:367: Connect error: conn_id=5; err=Connection closed;\n",
      "2020-05-20 20:31:28,103 [open_context_base.py] on_error:367: Connect error: conn_id=5; err=Connection closed;\n",
      "2020-05-20 20:31:28,105 [network_manager.py] work:366: Close: conn_id=5\n",
      "2020-05-20 20:31:28,107 [open_context_base.py] _wait_reconnect:475: Wait reconnect in 8 seconds: host=127.0.0.1; port=11111;\n",
      "2020-05-20 20:31:36,108 [open_context_base.py] _socket_reconnect_and_wait_ready:257: Start connecting: host=127.0.0.1; port=11111;\n",
      "2020-05-20 20:31:36,113 [open_context_base.py] on_error:367: Connect error: conn_id=6; err=ECONNREFUSED;\n",
      "2020-05-20 20:31:36,117 [open_context_base.py] on_error:367: Connect error: conn_id=6; err=Connection closed;\n",
      "2020-05-20 20:31:36,120 [open_context_base.py] on_error:367: Connect error: conn_id=6; err=Connection closed;\n",
      "2020-05-20 20:31:36,124 [open_context_base.py] _wait_reconnect:475: Wait reconnect in 8 seconds: host=127.0.0.1; port=11111;\n",
      "2020-05-20 20:31:36,124 [network_manager.py] work:366: Close: conn_id=6\n",
      "2020-05-20 20:31:44,126 [open_context_base.py] _socket_reconnect_and_wait_ready:257: Start connecting: host=127.0.0.1; port=11111;\n",
      "2020-05-20 20:31:44,131 [open_context_base.py] on_error:367: Connect error: conn_id=7; err=ECONNREFUSED;\n",
      "2020-05-20 20:31:44,133 [open_context_base.py] on_error:367: Connect error: conn_id=7; err=Connection closed;\n",
      "2020-05-20 20:31:44,138 [open_context_base.py] on_error:367: Connect error: conn_id=7; err=Connection closed;\n",
      "2020-05-20 20:31:44,139 [open_context_base.py] _wait_reconnect:475: Wait reconnect in 8 seconds: host=127.0.0.1; port=11111;\n",
      "2020-05-20 20:31:44,146 [network_manager.py] work:366: Close: conn_id=7\n",
      "2020-05-20 20:31:52,144 [open_context_base.py] _socket_reconnect_and_wait_ready:257: Start connecting: host=127.0.0.1; port=11111;\n",
      "2020-05-20 20:31:52,149 [open_context_base.py] _wait_reconnect:475: Wait reconnect in 8 seconds: host=127.0.0.1; port=11111;\n",
      "2020-05-20 20:31:52,151 [network_manager.py] work:366: Close: conn_id=8\n",
      "2020-05-20 20:32:00,151 [open_context_base.py] _socket_reconnect_and_wait_ready:257: Start connecting: host=127.0.0.1; port=11111;\n",
      "2020-05-20 20:32:00,156 [open_context_base.py] on_error:367: Connect error: conn_id=9; err=ECONNREFUSED;\n",
      "2020-05-20 20:32:00,160 [open_context_base.py] on_error:367: Connect error: conn_id=9; err=Connection closed;\n",
      "2020-05-20 20:32:00,164 [open_context_base.py] on_error:367: Connect error: conn_id=9; err=Connection closed;\n",
      "2020-05-20 20:32:00,169 [open_context_base.py] _wait_reconnect:475: Wait reconnect in 8 seconds: host=127.0.0.1; port=11111;\n",
      "2020-05-20 20:32:00,175 [network_manager.py] work:366: Close: conn_id=9\n",
      "2020-05-20 20:32:08,173 [open_context_base.py] _socket_reconnect_and_wait_ready:257: Start connecting: host=127.0.0.1; port=11111;\n",
      "2020-05-20 20:32:08,176 [open_context_base.py] _wait_reconnect:475: Wait reconnect in 8 seconds: host=127.0.0.1; port=11111;\n",
      "2020-05-20 20:32:08,183 [open_context_base.py] on_error:367: Connect error: conn_id=10; err=ECONNREFUSED;\n",
      "2020-05-20 20:32:08,184 [open_context_base.py] on_error:367: Connect error: conn_id=10; err=Connection closed;\n",
      "2020-05-20 20:32:08,185 [open_context_base.py] on_error:367: Connect error: conn_id=10; err=Connection closed;\n",
      "2020-05-20 20:32:08,186 [network_manager.py] work:366: Close: conn_id=10\n",
      "2020-05-20 20:32:16,182 [open_context_base.py] _socket_reconnect_and_wait_ready:257: Start connecting: host=127.0.0.1; port=11111;\n",
      "2020-05-20 20:32:16,187 [open_context_base.py] _wait_reconnect:475: Wait reconnect in 8 seconds: host=127.0.0.1; port=11111;\n",
      "2020-05-20 20:32:16,188 [open_context_base.py] on_error:367: Connect error: conn_id=11; err=ECONNREFUSED;\n",
      "2020-05-20 20:32:16,197 [open_context_base.py] on_error:367: Connect error: conn_id=11; err=Connection closed;\n",
      "2020-05-20 20:32:16,200 [open_context_base.py] on_error:367: Connect error: conn_id=11; err=Connection closed;\n",
      "2020-05-20 20:32:16,206 [network_manager.py] work:366: Close: conn_id=11\n"
     ]
    }
   ],
   "source": [
    "from futu import *\n",
    "quote_ctx = OpenQuoteContext(host='127.0.0.1', port=11111)\n",
    "print(quote_ctx.get_market_snapshot('HK.00700'))\n",
    "quote_ctx.close()"
   ]
  },
  {
   "cell_type": "code",
   "execution_count": null,
   "metadata": {},
   "outputs": [],
   "source": []
  }
 ],
 "metadata": {
  "kernelspec": {
   "display_name": "Python 3",
   "language": "python",
   "name": "python3"
  },
  "language_info": {
   "codemirror_mode": {
    "name": "ipython",
    "version": 3
   },
   "file_extension": ".py",
   "mimetype": "text/x-python",
   "name": "python",
   "nbconvert_exporter": "python",
   "pygments_lexer": "ipython3",
   "version": "3.7.4"
  }
 },
 "nbformat": 4,
 "nbformat_minor": 2
}
